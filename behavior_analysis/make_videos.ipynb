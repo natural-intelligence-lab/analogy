{
 "cells": [
  {
   "cell_type": "code",
   "execution_count": 1,
   "metadata": {},
   "outputs": [
    {
     "ename": "ModuleNotFoundError",
     "evalue": "No module named 'cv2'",
     "output_type": "error",
     "traceback": [
      "\u001B[0;31m---------------------------------------------------------------------------\u001B[0m",
      "\u001B[0;31mModuleNotFoundError\u001B[0m                       Traceback (most recent call last)",
      "\u001B[0;32m<ipython-input-1-e7efad6e5b7c>\u001B[0m in \u001B[0;36m<module>\u001B[0;34m\u001B[0m\n\u001B[1;32m      9\u001B[0m \u001B[0;32mfrom\u001B[0m \u001B[0mmatplotlib\u001B[0m \u001B[0;32mimport\u001B[0m \u001B[0mpyplot\u001B[0m \u001B[0;32mas\u001B[0m \u001B[0mplt\u001B[0m\u001B[0;34m\u001B[0m\u001B[0;34m\u001B[0m\u001B[0m\n\u001B[1;32m     10\u001B[0m \u001B[0;32mimport\u001B[0m \u001B[0mos\u001B[0m\u001B[0;34m\u001B[0m\u001B[0;34m\u001B[0m\u001B[0m\n\u001B[0;32m---> 11\u001B[0;31m \u001B[0;32mimport\u001B[0m \u001B[0mcv2\u001B[0m\u001B[0;34m\u001B[0m\u001B[0;34m\u001B[0m\u001B[0m\n\u001B[0m\u001B[1;32m     12\u001B[0m \u001B[0;32mimport\u001B[0m \u001B[0mpandas\u001B[0m \u001B[0;32mas\u001B[0m \u001B[0mpd\u001B[0m\u001B[0;34m\u001B[0m\u001B[0;34m\u001B[0m\u001B[0m\n\u001B[1;32m     13\u001B[0m \u001B[0;32mimport\u001B[0m \u001B[0mseaborn\u001B[0m \u001B[0;32mas\u001B[0m \u001B[0msns\u001B[0m\u001B[0;34m\u001B[0m\u001B[0;34m\u001B[0m\u001B[0m\n",
      "\u001B[0;31mModuleNotFoundError\u001B[0m: No module named 'cv2'"
     ]
    }
   ],
   "source": [
    "##  Imports\n",
    "\n",
    "import importlib\n",
    "import sys\n",
    "sys.path.append('../task')\n",
    "\n",
    "import collections\n",
    "import json\n",
    "from matplotlib import pyplot as plt\n",
    "import os\n",
    "import cv2\n",
    "import pandas as pd\n",
    "import seaborn as sns\n",
    "\n",
    "from moog_demos import gif_writer as gif_writer_lib\n",
    "from moog import maze_lib\n",
    "from moog import observers\n",
    "\n",
    "from utils import common\n",
    "from utils import get_trial_dataframe\n",
    "from utils import get_trial_paths\n",
    "from utils import trial_video\n",
    "\n",
    "importlib.reload(common)\n",
    "importlib.reload(get_trial_dataframe)\n",
    "importlib.reload(get_trial_paths)\n",
    "importlib.reload(trial_video)\n",
    "\n",
    "# For matplotlib inline animations to show\n",
    "%matplotlib inline"
   ]
  },
  {
   "cell_type": "code",
   "execution_count": 4,
   "metadata": {},
   "outputs": [],
   "source": [
    "##  Define behavior data path\n",
    "\n",
    "DATA_TAIL = '2021_05_07_22_07_34'  # Nick's pilot laptop data\n",
    "\n",
    "DATA_PATH = os.path.join(\n",
    "    os.getcwd(),\n",
    "    'data/',\n",
    "    DATA_TAIL,\n",
    ")"
   ]
  },
  {
   "cell_type": "code",
   "execution_count": 12,
   "metadata": {},
   "outputs": [
    {
     "name": "stdout",
     "output_type": "stream",
     "text": [
      "Number of trials:  48\n",
      "trial_df columns: ['trial_num', 'path_length', 'name', 'num_turns', 'start_x']\n",
      "Unique Values:\n",
      "path_length: [ 2  3  4  6  8 10 11 12 13 15 16 17 19 20 21 22 23 24 25 26 32 34 36 38]\n",
      "name: ['Random12']\n",
      "num_turns: [0 1 2 3 4 5]\n",
      "start_x: [ 0  1  2  3  4  5  6  7  8  9 10 11]\n"
     ]
    }
   ],
   "source": [
    "##  Load behavior data\n",
    "\n",
    "importlib.reload(get_trial_paths)\n",
    "importlib.reload(get_trial_dataframe)\n",
    "\n",
    "trial_paths, stimulus_features = get_trial_paths.get_trial_paths(DATA_PATH)\n",
    "trial_df = get_trial_dataframe.get_trial_dataframe(trial_paths, stimulus_features)"
   ]
  },
  {
   "cell_type": "code",
   "execution_count": 17,
   "metadata": {},
   "outputs": [],
   "source": [
    "sample_every = 3\n",
    "\n",
    "def _write_to_gif(frames, gif_name, fps=20):\n",
    "    gif_file = os.path.join(os.getcwd(), 'gifs', gif_name)\n",
    "    gif_writer = gif_writer_lib.GifWriter(gif_file=gif_file + '.gif', fps=fps)\n",
    "    for frame in frames:\n",
    "        gif_writer.add(frame)\n",
    "    gif_writer.close()\n",
    "    \n",
    "def _concat_frames(frames_0, frames_1):\n",
    "    frames = []\n",
    "    for f_0, f_1 in zip(frames_0, frames_1):\n",
    "        buffer = (255 * np.ones((f_0.shape[0], 16, 3))).astype(np.uint8)\n",
    "        f = np.concatenate((f_0, buffer, f_1), axis=1)\n",
    "        frames.append(f)\n",
    "    return frames"
   ]
  },
  {
   "cell_type": "code",
   "execution_count": 21,
   "metadata": {},
   "outputs": [
    {
     "data": {
      "image/png": "[encoded data removed]",
      "text/plain": [
       "<Figure size 165.6x165.6 with 1 Axes>"
      ]
     },
     "metadata": {},
     "output_type": "display_data"
    },
    {
     "name": "stdout",
     "output_type": "stream",
     "text": [
      "Writing gif with 47 images to file /Users/nicholaswatters/Desktop/grad_school/research/mehrdad/maze_set_go/behavior_analysis/gifs/examples/demo_0.gif\n"
     ]
    },
    {
     "data": {
      "image/png": "[encoded data removed]",
      "text/plain": [
       "<Figure size 165.6x165.6 with 1 Axes>"
      ]
     },
     "metadata": {},
     "output_type": "display_data"
    },
    {
     "name": "stdout",
     "output_type": "stream",
     "text": [
      "Writing gif with 60 images to file /Users/nicholaswatters/Desktop/grad_school/research/mehrdad/maze_set_go/behavior_analysis/gifs/examples/demo_1.gif\n"
     ]
    },
    {
     "data": {
      "image/png": "[encoded data removed]",
      "text/plain": [
       "<Figure size 165.6x165.6 with 1 Axes>"
      ]
     },
     "metadata": {},
     "output_type": "display_data"
    },
    {
     "name": "stdout",
     "output_type": "stream",
     "text": [
      "Writing gif with 75 images to file /Users/nicholaswatters/Desktop/grad_school/research/mehrdad/maze_set_go/behavior_analysis/gifs/examples/demo_2.gif\n"
     ]
    },
    {
     "data": {
      "image/png": "[encoded data removed]",
      "text/plain": [
       "<Figure size 165.6x165.6 with 1 Axes>"
      ]
     },
     "metadata": {},
     "output_type": "display_data"
    },
    {
     "name": "stdout",
     "output_type": "stream",
     "text": [
      "Writing gif with 53 images to file /Users/nicholaswatters/Desktop/grad_school/research/mehrdad/maze_set_go/behavior_analysis/gifs/examples/demo_3.gif\n"
     ]
    },
    {
     "data": {
      "image/png": "[encoded data removed]",
      "text/plain": [
       "<Figure size 165.6x165.6 with 1 Axes>"
      ]
     },
     "metadata": {},
     "output_type": "display_data"
    },
    {
     "name": "stdout",
     "output_type": "stream",
     "text": [
      "Writing gif with 31 images to file /Users/nicholaswatters/Desktop/grad_school/research/mehrdad/maze_set_go/behavior_analysis/gifs/examples/demo_4.gif\n"
     ]
    },
    {
     "data": {
      "image/png": "[encoded data removed]",
      "text/plain": [
       "<Figure size 165.6x165.6 with 1 Axes>"
      ]
     },
     "metadata": {},
     "output_type": "display_data"
    },
    {
     "name": "stdout",
     "output_type": "stream",
     "text": [
      "Writing gif with 54 images to file /Users/nicholaswatters/Desktop/grad_school/research/mehrdad/maze_set_go/behavior_analysis/gifs/examples/demo_5.gif\n"
     ]
    },
    {
     "data": {
      "image/png": "[encoded data removed]",
      "text/plain": [
       "<Figure size 165.6x165.6 with 1 Axes>"
      ]
     },
     "metadata": {},
     "output_type": "display_data"
    },
    {
     "name": "stdout",
     "output_type": "stream",
     "text": [
      "Writing gif with 69 images to file /Users/nicholaswatters/Desktop/grad_school/research/mehrdad/maze_set_go/behavior_analysis/gifs/examples/demo_6.gif\n"
     ]
    },
    {
     "data": {
      "image/png": "[encoded data removed]",
      "text/plain": [
       "<Figure size 165.6x165.6 with 1 Axes>"
      ]
     },
     "metadata": {},
     "output_type": "display_data"
    },
    {
     "name": "stdout",
     "output_type": "stream",
     "text": [
      "Writing gif with 75 images to file /Users/nicholaswatters/Desktop/grad_school/research/mehrdad/maze_set_go/behavior_analysis/gifs/examples/demo_7.gif\n"
     ]
    },
    {
     "data": {
      "image/png": "[encoded data removed]",
      "text/plain": [
       "<Figure size 165.6x165.6 with 1 Axes>"
      ]
     },
     "metadata": {},
     "output_type": "display_data"
    },
    {
     "name": "stdout",
     "output_type": "stream",
     "text": [
      "Writing gif with 56 images to file /Users/nicholaswatters/Desktop/grad_school/research/mehrdad/maze_set_go/behavior_analysis/gifs/examples/demo_8.gif\n"
     ]
    },
    {
     "data": {
      "image/png": "[encoded data removed]",
      "text/plain": [
       "<Figure size 165.6x165.6 with 1 Axes>"
      ]
     },
     "metadata": {},
     "output_type": "display_data"
    },
    {
     "name": "stdout",
     "output_type": "stream",
     "text": [
      "Writing gif with 55 images to file /Users/nicholaswatters/Desktop/grad_school/research/mehrdad/maze_set_go/behavior_analysis/gifs/examples/demo_9.gif\n"
     ]
    },
    {
     "data": {
      "image/png": "[encoded data removed]",
      "text/plain": [
       "<Figure size 165.6x165.6 with 1 Axes>"
      ]
     },
     "metadata": {},
     "output_type": "display_data"
    },
    {
     "name": "stdout",
     "output_type": "stream",
     "text": [
      "Writing gif with 57 images to file /Users/nicholaswatters/Desktop/grad_school/research/mehrdad/maze_set_go/behavior_analysis/gifs/examples/demo_10.gif\n"
     ]
    },
    {
     "data": {
      "image/png": "[encoded data removed]",
      "text/plain": [
       "<Figure size 165.6x165.6 with 1 Axes>"
      ]
     },
     "metadata": {},
     "output_type": "display_data"
    },
    {
     "name": "stdout",
     "output_type": "stream",
     "text": [
      "Writing gif with 42 images to file /Users/nicholaswatters/Desktop/grad_school/research/mehrdad/maze_set_go/behavior_analysis/gifs/examples/demo_11.gif\n"
     ]
    },
    {
     "data": {
      "image/png": "[encoded data removed]",
      "text/plain": [
       "<Figure size 165.6x165.6 with 1 Axes>"
      ]
     },
     "metadata": {},
     "output_type": "display_data"
    },
    {
     "name": "stdout",
     "output_type": "stream",
     "text": [
      "Writing gif with 31 images to file /Users/nicholaswatters/Desktop/grad_school/research/mehrdad/maze_set_go/behavior_analysis/gifs/examples/demo_12.gif\n"
     ]
    },
    {
     "data": {
      "image/png": "[encoded data removed]",
      "text/plain": [
       "<Figure size 165.6x165.6 with 1 Axes>"
      ]
     },
     "metadata": {},
     "output_type": "display_data"
    },
    {
     "name": "stdout",
     "output_type": "stream",
     "text": [
      "Writing gif with 53 images to file /Users/nicholaswatters/Desktop/grad_school/research/mehrdad/maze_set_go/behavior_analysis/gifs/examples/demo_13.gif\n"
     ]
    },
    {
     "data": {
      "image/png": "[encoded data removed]",
      "text/plain": [
       "<Figure size 165.6x165.6 with 1 Axes>"
      ]
     },
     "metadata": {},
     "output_type": "display_data"
    },
    {
     "name": "stdout",
     "output_type": "stream",
     "text": [
      "Writing gif with 66 images to file /Users/nicholaswatters/Desktop/grad_school/research/mehrdad/maze_set_go/behavior_analysis/gifs/examples/demo_14.gif\n"
     ]
    },
    {
     "data": {
      "image/png": "[encoded data removed]",
      "text/plain": [
       "<Figure size 165.6x165.6 with 1 Axes>"
      ]
     },
     "metadata": {},
     "output_type": "display_data"
    },
    {
     "name": "stdout",
     "output_type": "stream",
     "text": [
      "Writing gif with 54 images to file /Users/nicholaswatters/Desktop/grad_school/research/mehrdad/maze_set_go/behavior_analysis/gifs/examples/demo_15.gif\n"
     ]
    },
    {
     "data": {
      "image/png": "[encoded data removed]",
      "text/plain": [
       "<Figure size 165.6x165.6 with 1 Axes>"
      ]
     },
     "metadata": {},
     "output_type": "display_data"
    },
    {
     "name": "stdout",
     "output_type": "stream",
     "text": [
      "Writing gif with 47 images to file /Users/nicholaswatters/Desktop/grad_school/research/mehrdad/maze_set_go/behavior_analysis/gifs/examples/demo_16.gif\n"
     ]
    },
    {
     "data": {
      "image/png": "[encoded data removed]",
      "text/plain": [
       "<Figure size 165.6x165.6 with 1 Axes>"
      ]
     },
     "metadata": {},
     "output_type": "display_data"
    },
    {
     "name": "stdout",
     "output_type": "stream",
     "text": [
      "Writing gif with 66 images to file /Users/nicholaswatters/Desktop/grad_school/research/mehrdad/maze_set_go/behavior_analysis/gifs/examples/demo_17.gif\n"
     ]
    },
    {
     "data": {
      "image/png": "[encoded data removed]",
      "text/plain": [
       "<Figure size 165.6x165.6 with 1 Axes>"
      ]
     },
     "metadata": {},
     "output_type": "display_data"
    },
    {
     "name": "stdout",
     "output_type": "stream",
     "text": [
      "Writing gif with 65 images to file /Users/nicholaswatters/Desktop/grad_school/research/mehrdad/maze_set_go/behavior_analysis/gifs/examples/demo_18.gif\n"
     ]
    },
    {
     "data": {
      "image/png": "[encoded data removed]",
      "text/plain": [
       "<Figure size 165.6x165.6 with 1 Axes>"
      ]
     },
     "metadata": {},
     "output_type": "display_data"
    },
    {
     "name": "stdout",
     "output_type": "stream",
     "text": [
      "Writing gif with 44 images to file /Users/nicholaswatters/Desktop/grad_school/research/mehrdad/maze_set_go/behavior_analysis/gifs/examples/demo_19.gif\n"
     ]
    },
    {
     "data": {
      "image/png": "[encoded data removed]",
      "text/plain": [
       "<Figure size 165.6x165.6 with 1 Axes>"
      ]
     },
     "metadata": {},
     "output_type": "display_data"
    },
    {
     "name": "stdout",
     "output_type": "stream",
     "text": [
      "Writing gif with 58 images to file /Users/nicholaswatters/Desktop/grad_school/research/mehrdad/maze_set_go/behavior_analysis/gifs/examples/demo_20.gif\n"
     ]
    }
   ],
   "source": [
    "gif_name_ = 'examples/demo'\n",
    "\n",
    "importlib.reload(trial_video)\n",
    "importlib.reload(common)\n",
    "\n",
    "for i, trial_num in enumerate(trial_df['trial_num']):\n",
    "    if i > 20:\n",
    "        continue\n",
    "    frames_opaque, _ = trial_video.get_frames(\n",
    "        trial_paths[trial_num],\n",
    "        sample_every,\n",
    "        translucent_prey=False,\n",
    "        include_fixation=True)\n",
    "    \n",
    "    frames_translucent, eye_pos = trial_video.get_frames(\n",
    "        trial_paths[trial_num],\n",
    "        sample_every,\n",
    "        translucent_prey=True,\n",
    "        include_fixation=True)\n",
    "\n",
    "    frames_t = trial_video.display_video(frames_translucent, eye_pos=eye_pos)\n",
    "    frames_t = [\n",
    "        cv2.resize(x, dsize=(256, 256), interpolation=cv2.INTER_CUBIC)[:, :, :3]\n",
    "        for x in frames_t\n",
    "    ]\n",
    "    \n",
    "    frames = _concat_frames(frames_opaque, frames_t)\n",
    "    \n",
    "    gif_name = gif_name_ + '_' + str(trial_num)\n",
    "    _write_to_gif(frames, gif_name)\n",
    "    "
   ]
  }
 ],
 "metadata": {
  "kernelspec": {
   "display_name": "Python 3",
   "language": "python",
   "name": "python3"
  },
  "language_info": {
   "codemirror_mode": {
    "name": "ipython",
    "version": 3
   },
   "file_extension": ".py",
   "mimetype": "text/x-python",
   "name": "python",
   "nbconvert_exporter": "python",
   "pygments_lexer": "ipython3",
   "version": "3.7.7"
  },
  "toc": {
   "base_numbering": 1,
   "nav_menu": {},
   "number_sections": true,
   "sideBar": true,
   "skip_h1_title": false,
   "title_cell": "Table of Contents",
   "title_sidebar": "Contents",
   "toc_cell": false,
   "toc_position": {},
   "toc_section_display": true,
   "toc_window_display": false
  },
  "varInspector": {
   "cols": {
    "lenName": 16,
    "lenType": 16,
    "lenVar": 40
   },
   "kernels_config": {
    "python": {
     "delete_cmd_postfix": "",
     "delete_cmd_prefix": "del ",
     "library": "var_list.py",
     "varRefreshCmd": "print(var_dic_list())"
    },
    "r": {
     "delete_cmd_postfix": ") ",
     "delete_cmd_prefix": "rm(",
     "library": "var_list.r",
     "varRefreshCmd": "cat(var_dic_list()) "
    }
   },
   "types_to_exclude": [
    "module",
    "function",
    "builtin_function_or_method",
    "instance",
    "_Feature"
   ],
   "window_display": false
  }
 },
 "nbformat": 4,
 "nbformat_minor": 4
}