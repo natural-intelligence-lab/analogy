{
 "cells": [
  {
   "cell_type": "code",
   "execution_count": 50,
   "id": "ambient-possibility",
   "metadata": {},
   "outputs": [],
   "source": [
    "##  Imports\n",
    "\n",
    "import importlib\n",
    "import sys\n",
    "sys.path.append('../task')\n",
    "\n",
    "import collections\n",
    "import json\n",
    "from matplotlib import pyplot as plt\n",
    "import os\n",
    "import pandas as pd\n",
    "import seaborn as sns\n",
    "\n",
    "import scipy.io\n",
    "\n",
    "from moog_demos import gif_writer as gif_writer_lib\n",
    "from moog import maze_lib\n",
    "from moog import observers\n",
    "\n",
    "from utils import common\n",
    "from utils import get_trial_dataframe\n",
    "from utils import get_trial_paths\n",
    "from utils import trial_video\n",
    "from utils import performance\n",
    "\n",
    "importlib.reload(common)\n",
    "importlib.reload(get_trial_dataframe)\n",
    "importlib.reload(get_trial_paths)\n",
    "importlib.reload(trial_video)\n",
    "importlib.reload(performance)\n",
    "\n",
    "# For matplotlib inline animations to show\n",
    "%matplotlib inline"
   ]
  },
  {
   "cell_type": "code",
   "execution_count": 51,
   "id": "theoretical-importance",
   "metadata": {},
   "outputs": [],
   "source": [
    "##  Define behavior data path\n",
    "\n",
    "# cue-combination pilot#2: self paced\n",
    "# DATA_TAIL = '2021_10_19_23_15_36' # FP\n",
    "# DATA_TAIL = '2021_10_19_23_35_48' # no FP\n",
    "# DATA_TAIL = '2021_10_19_23_43_42' # FP\n",
    "DATA_TAIL = '2021_10_19_23_53_44' # no FP\n",
    "\n",
    "# cue-combination pilot#1\n",
    "# DATA_TAIL = '2021_10_15_00_56_40' # FP\n",
    "# DATA_TAIL = '2021_10_15_01_10_47' # no FP\n",
    "# DATA_TAIL = '2021_10_15_01_20_25' # FP\n",
    "# DATA_TAIL = '2021_10_15_01_38_40' # no FP\n",
    "\n",
    "# pilot #3\n",
    "## NW\n",
    "# DATA_TAIL = '2021_07_12_14_27_23'\n",
    "# DATA_TAIL = '2021_07_12_14_49_48'\n",
    "# DATA_TAIL = '2021_07_12_15_03_33'\n",
    "## JG\n",
    "# DATA_TAIL = '2021_07_12_16_07_24'\n",
    "# DATA_TAIL = '2021_07_12_16_24_55'\n",
    "# DATA_TAIL = '2021_07_12_15_51_26'\n",
    "\n",
    "# DATA_TAIL = '2021_06_03_15_29_43' # 2nd pilot (0-turn variable height)\n",
    "# DATA_TAIL = '2021_06_03_15_43_11' # 2nd pilot (random turns)\n",
    "# DATA_TAIL = '2021_05_13_12_29_07' # 1st pilot (w/o eye movement)\n",
    "\n",
    "DATA_PATH = os.path.join(\n",
    "    os.getcwd(),\n",
    "    'data/',\n",
    "    DATA_TAIL,\n",
    ")\n",
    "\n",
    "SAVE_PATH = DATA_PATH+'.mat'"
   ]
  },
  {
   "cell_type": "code",
   "execution_count": 52,
   "id": "general-madness",
   "metadata": {},
   "outputs": [
    {
     "name": "stdout",
     "output_type": "stream",
     "text": [
      "Number of trials:  99\n",
      "trial_df columns: ['trial_num', 'path_length', 'num_turns', 'name', 'start_x']\n",
      "Unique Values:\n",
      "path_length: [19 23 25 26 27 28 29 30 31 32 33 34 35 37 38 39 40 41 42 44 46 47 48 49\n",
      " 50 52 54 56 57 58 59 60 61 62 65 67 69 74]\n",
      "num_turns: [0 2 4 6]\n",
      "name: ['Random20']\n",
      "start_x: [ 0  1  2  3  4  5  6  7  8  9 10 11 12 13 14 15 16 17 18 19]\n"
     ]
    }
   ],
   "source": [
    "##  Load behavior data\n",
    "\n",
    "importlib.reload(get_trial_paths)\n",
    "importlib.reload(get_trial_dataframe)\n",
    "\n",
    "trial_paths, stimulus_features, segment_length, prey_path = get_trial_paths.get_trial_paths(DATA_PATH)\n",
    "# trial_paths, stimulus_features = get_trial_paths.get_trial_paths(DATA_PATH)\n",
    "trial_df = get_trial_dataframe.get_trial_dataframe(trial_paths, stimulus_features)"
   ]
  },
  {
   "cell_type": "code",
   "execution_count": 53,
   "id": "embedded-columbus",
   "metadata": {},
   "outputs": [],
   "source": [
    "##  Add performance to trial_df\n",
    "\n",
    "performance.add_response_error_to_trial_df(trial_df, trial_paths)"
   ]
  },
  {
   "cell_type": "code",
   "execution_count": 54,
   "outputs": [],
   "source": [
    "# performance.add_rt_offline_to_trial_df(trial_df, trial_paths)\n"
   ],
   "metadata": {
    "collapsed": false,
    "pycharm": {
     "name": "#%%\n"
    }
   }
  },
  {
   "cell_type": "code",
   "execution_count": 55,
   "outputs": [
    {
     "name": "stderr",
     "output_type": "stream",
     "text": [
      "/opt/anaconda3/envs/mworks/lib/python3.8/site-packages/numpy/core/_asarray.py:171: VisibleDeprecationWarning: Creating an ndarray from ragged nested sequences (which is a list-or-tuple of lists-or-tuples-or ndarrays with different lengths or shapes) is deprecated. If you meant to do this, you must specify 'dtype=object' when creating the ndarray.\n",
      "  return array(a, dtype, copy=False, order=order, subok=True)\n"
     ]
    }
   ],
   "source": [
    "scipy.io.savemat(SAVE_PATH,{'segment_length':segment_length,'prey_path':prey_path,'trial_df':trial_df.to_dict(\"list\")})\n"
   ],
   "metadata": {
    "collapsed": false,
    "pycharm": {
     "name": "#%% save data to matlab .mat\n"
    }
   }
  },
  {
   "cell_type": "code",
   "execution_count": 56,
   "id": "public-friendly",
   "metadata": {},
   "outputs": [],
   "source": [
    "# fig, ax = plt.subplots()\n",
    "# sns.barplot(ax=ax, data=trial_df, y='prey_distance_at_response', x='num_turns')\n",
    "#\n",
    "# fig, ax = plt.subplots()\n",
    "# sns.barplot(ax=ax, data=trial_df, y='prey_distance_at_response', x='path_length')"
   ]
  }
 ],
 "metadata": {
  "kernelspec": {
   "display_name": "Python 3",
   "language": "python",
   "name": "python3"
  },
  "toc": {
   "base_numbering": 1,
   "nav_menu": {},
   "number_sections": true,
   "sideBar": true,
   "skip_h1_title": false,
   "title_cell": "Table of Contents",
   "title_sidebar": "Contents",
   "toc_cell": false,
   "toc_position": {},
   "toc_section_display": true,
   "toc_window_display": false
  },
  "varInspector": {
   "cols": {
    "lenName": 16,
    "lenType": 16,
    "lenVar": 40
   },
   "kernels_config": {
    "python": {
     "delete_cmd_postfix": "",
     "delete_cmd_prefix": "del ",
     "library": "var_list.py",
     "varRefreshCmd": "print(var_dic_list())"
    },
    "r": {
     "delete_cmd_postfix": ") ",
     "delete_cmd_prefix": "rm(",
     "library": "var_list.r",
     "varRefreshCmd": "cat(var_dic_list()) "
    }
   },
   "types_to_exclude": [
    "module",
    "function",
    "builtin_function_or_method",
    "instance",
    "_Feature"
   ],
   "window_display": false
  }
 },
 "nbformat": 4,
 "nbformat_minor": 5
}