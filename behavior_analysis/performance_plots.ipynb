{
 "cells": [
  {
   "cell_type": "code",
   "execution_count": 54,
   "id": "ambient-possibility",
   "metadata": {},
   "outputs": [],
   "source": [
    "##  Imports\n",
    "\n",
    "import importlib\n",
    "import sys\n",
    "sys.path.append('../task')\n",
    "\n",
    "import collections\n",
    "import json\n",
    "from matplotlib import pyplot as plt\n",
    "import os\n",
    "import pandas as pd\n",
    "import seaborn as sns\n",
    "\n",
    "import scipy.io\n",
    "\n",
    "from moog_demos import gif_writer as gif_writer_lib\n",
    "from moog import maze_lib\n",
    "from moog import observers\n",
    "\n",
    "from utils import common\n",
    "from utils import get_trial_dataframe\n",
    "from utils import get_trial_paths\n",
    "from utils import trial_video\n",
    "from utils import performance\n",
    "\n",
    "importlib.reload(common)\n",
    "importlib.reload(get_trial_dataframe)\n",
    "importlib.reload(get_trial_paths)\n",
    "importlib.reload(trial_video)\n",
    "importlib.reload(performance)\n",
    "\n",
    "# For matplotlib inline animations to show\n",
    "%matplotlib inline"
   ]
  },
  {
   "cell_type": "code",
   "execution_count": 61,
   "id": "theoretical-importance",
   "metadata": {},
   "outputs": [],
   "source": [
    "##  Define behavior data path\n",
    "\n",
    "# pilot #3\n",
    "## NW\n",
    "# DATA_TAIL = '2021_07_12_14_27_23'\n",
    "# DATA_TAIL = '2021_07_12_14_49_48'\n",
    "# DATA_TAIL = '2021_07_12_15_03_33'\n",
    "## JG\n",
    "# DATA_TAIL = '2021_07_12_16_07_24'\n",
    "# DATA_TAIL = '2021_07_12_16_24_55'\n",
    "# DATA_TAIL = '2021_07_12_15_51_26'\n",
    "\n",
    "DATA_TAIL = '2021_06_03_15_29_43' # 2nd pilot (0-turn variable height)\n",
    "# DATA_TAIL = '2021_06_03_15_43_11' # 2nd pilot (random turns)\n",
    "# DATA_TAIL = '2021_05_13_12_29_07' # 1st pilot (w/o eye movement)\n",
    "\n",
    "DATA_PATH = os.path.join(\n",
    "    os.getcwd(),\n",
    "    'data/',\n",
    "    DATA_TAIL,\n",
    ")\n",
    "\n",
    "SAVE_PATH = DATA_PATH+'.mat'"
   ]
  },
  {
   "cell_type": "code",
   "execution_count": 62,
   "id": "general-madness",
   "metadata": {},
   "outputs": [
    {
     "ename": "KeyError",
     "evalue": "'path_length'",
     "output_type": "error",
     "traceback": [
      "\u001B[0;31m---------------------------------------------------------------------------\u001B[0m",
      "\u001B[0;31mKeyError\u001B[0m                                  Traceback (most recent call last)",
      "\u001B[0;32m<ipython-input-62-37f190a632f0>\u001B[0m in \u001B[0;36m<module>\u001B[0;34m\u001B[0m\n\u001B[1;32m      4\u001B[0m \u001B[0mimportlib\u001B[0m\u001B[0;34m.\u001B[0m\u001B[0mreload\u001B[0m\u001B[0;34m(\u001B[0m\u001B[0mget_trial_dataframe\u001B[0m\u001B[0;34m)\u001B[0m\u001B[0;34m\u001B[0m\u001B[0;34m\u001B[0m\u001B[0m\n\u001B[1;32m      5\u001B[0m \u001B[0;34m\u001B[0m\u001B[0m\n\u001B[0;32m----> 6\u001B[0;31m \u001B[0mtrial_paths\u001B[0m\u001B[0;34m,\u001B[0m \u001B[0mstimulus_features\u001B[0m\u001B[0;34m,\u001B[0m \u001B[0msegment_length\u001B[0m \u001B[0;34m=\u001B[0m \u001B[0mget_trial_paths\u001B[0m\u001B[0;34m.\u001B[0m\u001B[0mget_trial_paths\u001B[0m\u001B[0;34m(\u001B[0m\u001B[0mDATA_PATH\u001B[0m\u001B[0;34m)\u001B[0m\u001B[0;34m\u001B[0m\u001B[0;34m\u001B[0m\u001B[0m\n\u001B[0m\u001B[1;32m      7\u001B[0m \u001B[0;31m# trial_paths, stimulus_features = get_trial_paths.get_trial_paths(DATA_PATH)\u001B[0m\u001B[0;34m\u001B[0m\u001B[0;34m\u001B[0m\u001B[0;34m\u001B[0m\u001B[0m\n\u001B[1;32m      8\u001B[0m \u001B[0mtrial_df\u001B[0m \u001B[0;34m=\u001B[0m \u001B[0mget_trial_dataframe\u001B[0m\u001B[0;34m.\u001B[0m\u001B[0mget_trial_dataframe\u001B[0m\u001B[0;34m(\u001B[0m\u001B[0mtrial_paths\u001B[0m\u001B[0;34m,\u001B[0m \u001B[0mstimulus_features\u001B[0m\u001B[0;34m)\u001B[0m\u001B[0;34m\u001B[0m\u001B[0;34m\u001B[0m\u001B[0m\n",
      "\u001B[0;32m~/Documents/MazeSetGo/behavior_analysis/utils/get_trial_paths.py\u001B[0m in \u001B[0;36mget_trial_paths\u001B[0;34m(data_path)\u001B[0m\n\u001B[1;32m     49\u001B[0m \u001B[0;34m\u001B[0m\u001B[0m\n\u001B[1;32m     50\u001B[0m     \u001B[0;31m# segment_length\u001B[0m\u001B[0;34m\u001B[0m\u001B[0;34m\u001B[0m\u001B[0;34m\u001B[0m\u001B[0m\n\u001B[0;32m---> 51\u001B[0;31m     \u001B[0msegment_length\u001B[0m \u001B[0;34m=\u001B[0m \u001B[0;34m[\u001B[0m\u001B[0m_get_segment_length\u001B[0m\u001B[0;34m(\u001B[0m\u001B[0mx\u001B[0m\u001B[0;34m)\u001B[0m \u001B[0;32mfor\u001B[0m \u001B[0mx\u001B[0m \u001B[0;32min\u001B[0m \u001B[0mtrial_paths\u001B[0m\u001B[0;34m]\u001B[0m\u001B[0;34m\u001B[0m\u001B[0;34m\u001B[0m\u001B[0m\n\u001B[0m\u001B[1;32m     52\u001B[0m \u001B[0;34m\u001B[0m\u001B[0m\n\u001B[1;32m     53\u001B[0m     \u001B[0;31m# Print number of trials and unique stimulus names\u001B[0m\u001B[0;34m\u001B[0m\u001B[0;34m\u001B[0m\u001B[0;34m\u001B[0m\u001B[0m\n",
      "\u001B[0;32m~/Documents/MazeSetGo/behavior_analysis/utils/get_trial_paths.py\u001B[0m in \u001B[0;36m<listcomp>\u001B[0;34m(.0)\u001B[0m\n\u001B[1;32m     49\u001B[0m \u001B[0;34m\u001B[0m\u001B[0m\n\u001B[1;32m     50\u001B[0m     \u001B[0;31m# segment_length\u001B[0m\u001B[0;34m\u001B[0m\u001B[0;34m\u001B[0m\u001B[0;34m\u001B[0m\u001B[0m\n\u001B[0;32m---> 51\u001B[0;31m     \u001B[0msegment_length\u001B[0m \u001B[0;34m=\u001B[0m \u001B[0;34m[\u001B[0m\u001B[0m_get_segment_length\u001B[0m\u001B[0;34m(\u001B[0m\u001B[0mx\u001B[0m\u001B[0;34m)\u001B[0m \u001B[0;32mfor\u001B[0m \u001B[0mx\u001B[0m \u001B[0;32min\u001B[0m \u001B[0mtrial_paths\u001B[0m\u001B[0;34m]\u001B[0m\u001B[0;34m\u001B[0m\u001B[0;34m\u001B[0m\u001B[0m\n\u001B[0m\u001B[1;32m     52\u001B[0m \u001B[0;34m\u001B[0m\u001B[0m\n\u001B[1;32m     53\u001B[0m     \u001B[0;31m# Print number of trials and unique stimulus names\u001B[0m\u001B[0;34m\u001B[0m\u001B[0;34m\u001B[0m\u001B[0;34m\u001B[0m\u001B[0m\n",
      "\u001B[0;32m~/Documents/MazeSetGo/behavior_analysis/utils/get_trial_paths.py\u001B[0m in \u001B[0;36m_get_segment_length\u001B[0;34m(trial_path)\u001B[0m\n\u001B[1;32m     19\u001B[0m     \u001B[0mmaze_matrix\u001B[0m \u001B[0;34m=\u001B[0m \u001B[0mtrial\u001B[0m\u001B[0;34m[\u001B[0m\u001B[0;36m1\u001B[0m\u001B[0;34m]\u001B[0m  \u001B[0;31m# W, H, prey_path,stimulus_features\u001B[0m\u001B[0;34m\u001B[0m\u001B[0;34m\u001B[0m\u001B[0m\n\u001B[1;32m     20\u001B[0m     \u001B[0mprey_path\u001B[0m \u001B[0;34m=\u001B[0m \u001B[0mmaze_matrix\u001B[0m\u001B[0;34m[\u001B[0m\u001B[0;34m'prey_path'\u001B[0m\u001B[0;34m]\u001B[0m\u001B[0;34m\u001B[0m\u001B[0;34m\u001B[0m\u001B[0m\n\u001B[0;32m---> 21\u001B[0;31m     \u001B[0mpath_length\u001B[0m \u001B[0;34m=\u001B[0m \u001B[0mmaze_matrix\u001B[0m\u001B[0;34m[\u001B[0m\u001B[0;34m'stimulus_features'\u001B[0m\u001B[0;34m]\u001B[0m\u001B[0;34m[\u001B[0m\u001B[0;34m'path_length'\u001B[0m\u001B[0;34m]\u001B[0m\u001B[0;34m\u001B[0m\u001B[0;34m\u001B[0m\u001B[0m\n\u001B[0m\u001B[1;32m     22\u001B[0m     \u001B[0mnum_turns\u001B[0m \u001B[0;34m=\u001B[0m \u001B[0mmaze_matrix\u001B[0m\u001B[0;34m[\u001B[0m\u001B[0;34m'stimulus_features'\u001B[0m\u001B[0;34m]\u001B[0m\u001B[0;34m[\u001B[0m\u001B[0;34m'num_turns'\u001B[0m\u001B[0;34m]\u001B[0m\u001B[0;34m\u001B[0m\u001B[0;34m\u001B[0m\u001B[0m\n\u001B[1;32m     23\u001B[0m     \u001B[0mdistance_matrix\u001B[0m \u001B[0;34m=\u001B[0m \u001B[0mnp\u001B[0m\u001B[0;34m.\u001B[0m\u001B[0mdiff\u001B[0m\u001B[0;34m(\u001B[0m\u001B[0mprey_path\u001B[0m\u001B[0;34m,\u001B[0m \u001B[0mn\u001B[0m\u001B[0;34m=\u001B[0m\u001B[0;36m1\u001B[0m\u001B[0;34m,\u001B[0m \u001B[0maxis\u001B[0m\u001B[0;34m=\u001B[0m\u001B[0;36m0\u001B[0m\u001B[0;34m)\u001B[0m\u001B[0;34m\u001B[0m\u001B[0;34m\u001B[0m\u001B[0m\n",
      "\u001B[0;31mKeyError\u001B[0m: 'path_length'"
     ]
    }
   ],
   "source": [
    "##  Load behavior data\n",
    "\n",
    "importlib.reload(get_trial_paths)\n",
    "importlib.reload(get_trial_dataframe)\n",
    "\n",
    "trial_paths, stimulus_features, segment_length = get_trial_paths.get_trial_paths(DATA_PATH)\n",
    "# trial_paths, stimulus_features = get_trial_paths.get_trial_paths(DATA_PATH)\n",
    "trial_df = get_trial_dataframe.get_trial_dataframe(trial_paths, stimulus_features)"
   ]
  },
  {
   "cell_type": "code",
   "execution_count": 63,
   "id": "embedded-columbus",
   "metadata": {},
   "outputs": [],
   "source": [
    "##  Add performance to trial_df\n",
    "\n",
    "performance.add_response_error_to_trial_df(trial_df, trial_paths)"
   ]
  },
  {
   "cell_type": "code",
   "execution_count": 58,
   "outputs": [],
   "source": [
    "# performance.add_rt_offline_to_trial_df(trial_df, trial_paths)\n"
   ],
   "metadata": {
    "collapsed": false,
    "pycharm": {
     "name": "#%%\n"
    }
   }
  },
  {
   "cell_type": "code",
   "execution_count": 64,
   "outputs": [
    {
     "name": "stderr",
     "output_type": "stream",
     "text": [
      "/opt/anaconda3/envs/mworks/lib/python3.8/site-packages/numpy/core/_asarray.py:171: VisibleDeprecationWarning: Creating an ndarray from ragged nested sequences (which is a list-or-tuple of lists-or-tuples-or ndarrays with different lengths or shapes) is deprecated. If you meant to do this, you must specify 'dtype=object' when creating the ndarray.\n",
      "  return array(a, dtype, copy=False, order=order, subok=True)\n"
     ]
    }
   ],
   "source": [
    "scipy.io.savemat(SAVE_PATH,{'segment_length':segment_length,'trial_df':trial_df.to_dict(\"list\")})\n"
   ],
   "metadata": {
    "collapsed": false,
    "pycharm": {
     "name": "#%% save data to matlab .mat\n"
    }
   }
  },
  {
   "cell_type": "code",
   "execution_count": 60,
   "id": "public-friendly",
   "metadata": {},
   "outputs": [],
   "source": [
    "# fig, ax = plt.subplots()\n",
    "# sns.barplot(ax=ax, data=trial_df, y='prey_distance_at_response', x='num_turns')\n",
    "#\n",
    "# fig, ax = plt.subplots()\n",
    "# sns.barplot(ax=ax, data=trial_df, y='prey_distance_at_response', x='path_length')"
   ]
  }
 ],
 "metadata": {
  "kernelspec": {
   "display_name": "Python 3",
   "language": "python",
   "name": "python3"
  },
  "toc": {
   "base_numbering": 1,
   "nav_menu": {},
   "number_sections": true,
   "sideBar": true,
   "skip_h1_title": false,
   "title_cell": "Table of Contents",
   "title_sidebar": "Contents",
   "toc_cell": false,
   "toc_position": {},
   "toc_section_display": true,
   "toc_window_display": false
  },
  "varInspector": {
   "cols": {
    "lenName": 16,
    "lenType": 16,
    "lenVar": 40
   },
   "kernels_config": {
    "python": {
     "delete_cmd_postfix": "",
     "delete_cmd_prefix": "del ",
     "library": "var_list.py",
     "varRefreshCmd": "print(var_dic_list())"
    },
    "r": {
     "delete_cmd_postfix": ") ",
     "delete_cmd_prefix": "rm(",
     "library": "var_list.r",
     "varRefreshCmd": "cat(var_dic_list()) "
    }
   },
   "types_to_exclude": [
    "module",
    "function",
    "builtin_function_or_method",
    "instance",
    "_Feature"
   ],
   "window_display": false
  }
 },
 "nbformat": 4,
 "nbformat_minor": 5
}